{
 "cells": [
  {
   "cell_type": "code",
   "execution_count": null,
   "id": "ef415e13",
   "metadata": {},
   "outputs": [],
   "source": [
    "import scipy.stats as stats\n",
    "import math\n",
    "\n",
    "# Given values\n",
    "sample_mean = 75\n",
    "sample_std_dev = 12\n",
    "sample_size = 40\n",
    "confidence_level = 0.90\n",
    "\n",
    "# Calculate the standard error\n",
    "standard_error = sample_std_dev / math.sqrt(sample_size)\n",
    "\n",
    "# Calculate the confidence interval\n",
    "ci = stats.norm.interval(confidence_level, loc=sample_mean, scale=standard_error)\n",
    "\n",
    "print(f\"The 90% confidence interval is: {ci}\")\n"
   ]
  },
  {
   "cell_type": "markdown",
   "id": "073d68d6",
   "metadata": {},
   "source": [
    "Interpretation of Results:\n",
    "The output will be two numbers forming an interval. This interval is the range within which the true population mean is likely to fall, with a 90% level of confidence.\n",
    "If, for example, the interval is [71.23, 78.77], it means there is a 90% chance that the population mean lies between 71.23 and 78.77.\n",
    "As with any confidence interval, the range provides an estimate of where the true population parameter lies based on your sample. The 90% confidence level means that if you were to take many samples and build a confidence interval from each of them, about 90% of those intervals would contain the true population mean."
   ]
  },
  {
   "cell_type": "code",
   "execution_count": null,
   "id": "5cd99d1c",
   "metadata": {},
   "outputs": [],
   "source": []
  }
 ],
 "metadata": {
  "kernelspec": {
   "display_name": "Python 3 (ipykernel)",
   "language": "python",
   "name": "python3"
  },
  "language_info": {
   "codemirror_mode": {
    "name": "ipython",
    "version": 3
   },
   "file_extension": ".py",
   "mimetype": "text/x-python",
   "name": "python",
   "nbconvert_exporter": "python",
   "pygments_lexer": "ipython3",
   "version": "3.10.9"
  }
 },
 "nbformat": 4,
 "nbformat_minor": 5
}
