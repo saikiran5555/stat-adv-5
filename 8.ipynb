{
 "cells": [
  {
   "cell_type": "code",
   "execution_count": null,
   "id": "48b421bd",
   "metadata": {},
   "outputs": [],
   "source": [
    "import scipy.stats as stats\n",
    "\n",
    "# Observed frequencies (heads, tails)\n",
    "observed = [55, 45]  # 55 heads and 45 tails\n",
    "\n",
    "# Expected frequencies (50 heads, 50 tails for a fair coin)\n",
    "expected = [50, 50]\n",
    "\n",
    "# Perform the chi-square goodness of fit test\n",
    "chi_square_statistic, p_value = stats.chisquare(f_obs=observed, f_exp=expected)\n",
    "\n",
    "# Print the results\n",
    "print(\"Chi-square Statistic:\", chi_square_statistic)\n",
    "print(\"P-value:\", p_value)\n",
    "\n",
    "# Significance level\n",
    "alpha = 0.05\n",
    "\n",
    "# Conclusion\n",
    "if p_value < alpha:\n",
    "    print(\"Reject the null hypothesis - The coin appears to be biased.\")\n",
    "else:\n",
    "    print(\"Fail to reject the null hypothesis - No evidence that the coin is biased.\")\n"
   ]
  },
  {
   "cell_type": "markdown",
   "id": "b42d3624",
   "metadata": {},
   "source": [
    "This code compares the observed frequencies (heads and tails) with the expected frequencies for a fair coin. The chisquare function from the SciPy library calculates the Chi-square statistic and the corresponding p-value. If the p-value is less than the significance level (0.05), we reject the null hypothesis, suggesting evidence against the coin being fair."
   ]
  }
 ],
 "metadata": {
  "kernelspec": {
   "display_name": "Python 3 (ipykernel)",
   "language": "python",
   "name": "python3"
  },
  "language_info": {
   "codemirror_mode": {
    "name": "ipython",
    "version": 3
   },
   "file_extension": ".py",
   "mimetype": "text/x-python",
   "name": "python",
   "nbconvert_exporter": "python",
   "pygments_lexer": "ipython3",
   "version": "3.10.9"
  }
 },
 "nbformat": 4,
 "nbformat_minor": 5
}
