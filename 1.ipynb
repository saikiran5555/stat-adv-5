{
 "cells": [
  {
   "cell_type": "code",
   "execution_count": null,
   "id": "ada73d66",
   "metadata": {},
   "outputs": [],
   "source": [
    "import scipy.stats as stats\n",
    "import math\n",
    "\n",
    "# Given values\n",
    "sample_mean = 50\n",
    "sample_std_dev = 5\n",
    "sample_size = 30\n",
    "confidence_level = 0.95\n",
    "\n",
    "# Calculate the standard error\n",
    "standard_error = sample_std_dev / math.sqrt(sample_size)\n",
    "\n",
    "# Calculate the confidence interval\n",
    "ci = stats.norm.interval(confidence_level, loc=sample_mean, scale=standard_error)\n",
    "\n",
    "print(f\"The 95% confidence interval is: {ci}\")\n"
   ]
  },
  {
   "cell_type": "markdown",
   "id": "63ef2441",
   "metadata": {},
   "source": [
    "Interpretation of Results:\n",
    "The output will give you two numbers, forming an interval.\n",
    "This interval is the range within which the true population mean is likely to fall, with a 95% level of confidence.\n",
    "If, for example, the interval is [46.12, 53.88], it means there is a 95% chance that the population mean lies between 46.12 and 53.88.\n",
    "Note that the narrower this interval, the more precise is your estimate of the population mean. The width of the interval is influenced by the standard deviation and the sample size: a smaller standard deviation and/or a larger sample size will result in a narrower confidence interval."
   ]
  }
 ],
 "metadata": {
  "kernelspec": {
   "display_name": "Python 3 (ipykernel)",
   "language": "python",
   "name": "python3"
  },
  "language_info": {
   "codemirror_mode": {
    "name": "ipython",
    "version": 3
   },
   "file_extension": ".py",
   "mimetype": "text/x-python",
   "name": "python",
   "nbconvert_exporter": "python",
   "pygments_lexer": "ipython3",
   "version": "3.10.9"
  }
 },
 "nbformat": 4,
 "nbformat_minor": 5
}
