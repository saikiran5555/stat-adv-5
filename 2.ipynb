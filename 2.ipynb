{
 "cells": [
  {
   "cell_type": "code",
   "execution_count": null,
   "id": "925f06ae",
   "metadata": {},
   "outputs": [],
   "source": [
    "import scipy.stats as stats\n",
    "\n",
    "# Hypothetical observed counts for each color\n",
    "observed_counts = [30, 25, 30, 15, 10, 30]  # Replace with your actual counts\n",
    "\n",
    "# Total number of M&Ms\n",
    "total_mms = sum(observed_counts)\n",
    "\n",
    "# Expected percentages\n",
    "expected_percentages = [0.20, 0.20, 0.20, 0.10, 0.10, 0.20]\n",
    "\n",
    "# Calculate expected counts\n",
    "expected_counts = [total_mms * p for p in expected_percentages]\n",
    "\n",
    "# Chi-square goodness of fit test\n",
    "chi_square_statistic, p_value = stats.chisquare(f_obs=observed_counts, f_exp=expected_counts)\n",
    "\n",
    "# Output the results\n",
    "print(\"Chi-square Statistic:\", chi_square_statistic)\n",
    "print(\"P-value:\", p_value)\n",
    "\n",
    "# Significance level\n",
    "alpha = 0.05\n",
    "\n",
    "# Conclusion\n",
    "if p_value < alpha:\n",
    "    print(\"Reject the null hypothesis - The distribution of colors is significantly different from the expected distribution.\")\n",
    "else:\n",
    "    print(\"Fail to reject the null hypothesis - No significant difference between the observed and expected distribution of colors.\")\n"
   ]
  },
  {
   "cell_type": "markdown",
   "id": "1afed0a8",
   "metadata": {},
   "source": [
    "This code performs the Chi-square goodness of fit test by comparing the observed counts against the expected counts based on the given percentages. It calculates the Chi-square statistic and the p-value, and compares the p-value against the significance level (0.05) to determine whether the null hypothesis (that the observed distribution matches the expected distribution) should be rejected or not."
   ]
  }
 ],
 "metadata": {
  "kernelspec": {
   "display_name": "Python 3 (ipykernel)",
   "language": "python",
   "name": "python3"
  },
  "language_info": {
   "codemirror_mode": {
    "name": "ipython",
    "version": 3
   },
   "file_extension": ".py",
   "mimetype": "text/x-python",
   "name": "python",
   "nbconvert_exporter": "python",
   "pygments_lexer": "ipython3",
   "version": "3.10.9"
  }
 },
 "nbformat": 4,
 "nbformat_minor": 5
}
