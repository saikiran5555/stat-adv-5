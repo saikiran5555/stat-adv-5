{
 "cells": [
  {
   "cell_type": "markdown",
   "id": "98a363dd",
   "metadata": {},
   "source": [
    "To calculate the chi-square statistic and p-value for the given contingency table using Python, you can use the scipy.stats library, specifically the chi2_contingency function. This function computes the chi-square statistic and p-value for a chi-square independence test, which is appropriate for this kind of data."
   ]
  },
  {
   "cell_type": "code",
   "execution_count": null,
   "id": "1faba4d6",
   "metadata": {},
   "outputs": [],
   "source": [
    "import scipy.stats as stats\n",
    "\n",
    "# Contingency table\n",
    "# Rows: Outcomes 1, 2, 3\n",
    "# Columns: Groups A, B\n",
    "data = [[20, 15], \n",
    "        [10, 25], \n",
    "        [15, 20]]\n",
    "\n",
    "# Perform the chi-square test\n",
    "chi2, p, dof, expected = stats.chi2_contingency(data)\n",
    "\n",
    "print(f\"Chi-square Statistic: {chi2}\")\n",
    "print(f\"P-value: {p}\")\n"
   ]
  },
  {
   "cell_type": "markdown",
   "id": "b2387d05",
   "metadata": {},
   "source": [
    "Interpretation of Results:\n",
    "Chi-square Statistic: This value indicates how much observed frequencies deviate from expected frequencies. A higher value suggests a greater deviation.\n",
    "P-value: This value tells you about the significance of your results. A common threshold for significance is 0.05.\n",
    "If the p-value is less than 0.05, it suggests that there is a statistically significant association between the groups and outcomes.\n",
    "If the p-value is greater than 0.05, it suggests that there is no significant association between the groups and outcomes."
   ]
  }
 ],
 "metadata": {
  "kernelspec": {
   "display_name": "Python 3 (ipykernel)",
   "language": "python",
   "name": "python3"
  },
  "language_info": {
   "codemirror_mode": {
    "name": "ipython",
    "version": 3
   },
   "file_extension": ".py",
   "mimetype": "text/x-python",
   "name": "python",
   "nbconvert_exporter": "python",
   "pygments_lexer": "ipython3",
   "version": "3.10.9"
  }
 },
 "nbformat": 4,
 "nbformat_minor": 5
}
