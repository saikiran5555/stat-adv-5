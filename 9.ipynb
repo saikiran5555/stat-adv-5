{
 "cells": [
  {
   "cell_type": "code",
   "execution_count": null,
   "id": "859fded7",
   "metadata": {},
   "outputs": [],
   "source": [
    "import scipy.stats as stats\n",
    "\n",
    "# Contingency table\n",
    "# Rows: Smoker, Non-Smoker\n",
    "# Columns: Lung Cancer Yes, Lung Cancer No\n",
    "data = [[60, 140], \n",
    "        [30, 170]]\n",
    "\n",
    "# Perform the chi-square test\n",
    "chi2, p, dof, expected = stats.chi2_contingency(data)\n",
    "\n",
    "print(f\"Chi-square Statistic: {chi2}\")\n",
    "print(f\"P-value: {p}\")\n"
   ]
  },
  {
   "cell_type": "markdown",
   "id": "ad75fe30",
   "metadata": {},
   "source": [
    "Interpretation of Results:\n",
    "Chi-square Statistic: A higher value suggests a greater deviation from what we would expect if there was no association between smoking status and lung cancer.\n",
    "P-value: This value helps us determine the significance of our results. With a significance level of 0.05:\n",
    "If the p-value is less than 0.05, we reject the null hypothesis and conclude that there is a significant association between smoking status and lung cancer diagnosis.\n",
    "If the p-value is greater than 0.05, we fail to reject the null hypothesis and conclude that there is no significant association between smoking status and lung cancer diagnosis."
   ]
  }
 ],
 "metadata": {
  "kernelspec": {
   "display_name": "Python 3 (ipykernel)",
   "language": "python",
   "name": "python3"
  },
  "language_info": {
   "codemirror_mode": {
    "name": "ipython",
    "version": 3
   },
   "file_extension": ".py",
   "mimetype": "text/x-python",
   "name": "python",
   "nbconvert_exporter": "python",
   "pygments_lexer": "ipython3",
   "version": "3.10.9"
  }
 },
 "nbformat": 4,
 "nbformat_minor": 5
}
