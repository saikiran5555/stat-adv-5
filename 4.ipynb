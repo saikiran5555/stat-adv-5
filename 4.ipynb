{
 "cells": [
  {
   "cell_type": "code",
   "execution_count": null,
   "id": "e8eb6ad0",
   "metadata": {},
   "outputs": [],
   "source": [
    "import statsmodels.api as sm\n",
    "\n",
    "# Number of individuals in the study\n",
    "n = 500\n",
    "\n",
    "# Number of individuals who smoke\n",
    "smokers = 60\n",
    "\n",
    "# Proportion of smokers\n",
    "p_hat = smokers / n\n",
    "\n",
    "# Calculate the 95% confidence interval for the proportion\n",
    "ci_lower, ci_upper = sm.stats.proportion_confint(count=smokers, nobs=n, alpha=0.05, method='normal')\n",
    "\n",
    "# Output the results\n",
    "print(\"95% confidence interval for the true proportion of individuals who smoke:\", ci_lower, ci_upper)\n"
   ]
  },
  {
   "cell_type": "markdown",
   "id": "a732e2d5",
   "metadata": {},
   "source": [
    "This code calculates the 95% confidence interval for the proportion of smokers in the population using the normal approximation method. The function proportion_confint takes the count of successes (number of smokers), the number of observations (total individuals), the significance level (alpha, which is 0.05 for a 95% confidence interval), and the method for interval estimation (in this case, 'normal', which is appropriate for large sample sizes).\n",
    "\n",
    "Note that while the normal approximation method is used here, it's generally accurate for large sample sizes and when the proportion is not extremely close to 0 or 1. Given your sample size of 500, this method should be suitable."
   ]
  }
 ],
 "metadata": {
  "kernelspec": {
   "display_name": "Python 3 (ipykernel)",
   "language": "python",
   "name": "python3"
  },
  "language_info": {
   "codemirror_mode": {
    "name": "ipython",
    "version": 3
   },
   "file_extension": ".py",
   "mimetype": "text/x-python",
   "name": "python",
   "nbconvert_exporter": "python",
   "pygments_lexer": "ipython3",
   "version": "3.10.9"
  }
 },
 "nbformat": 4,
 "nbformat_minor": 5
}
