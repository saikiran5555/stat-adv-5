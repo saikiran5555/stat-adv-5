{
 "cells": [
  {
   "cell_type": "code",
   "execution_count": null,
   "id": "cf2581ac",
   "metadata": {},
   "outputs": [],
   "source": [
    "import scipy.stats as stats\n",
    "\n",
    "# Data\n",
    "# Rows: US, UK\n",
    "# Columns: Milk Chocolate, Dark Chocolate, White Chocolate\n",
    "data = [[200, 150, 150],\n",
    "        [225, 175, 100]]\n",
    "\n",
    "# Perform the chi-square test for independence\n",
    "chi2_statistic, p_value, dof, expected = stats.chi2_contingency(data)\n",
    "\n",
    "# Print the results\n",
    "print(\"Chi-square Statistic:\", chi2_statistic)\n",
    "print(\"P-value:\", p_value)\n",
    "print(\"Degrees of Freedom:\", dof)\n",
    "print(\"Expected Frequencies:\\n\", expected)\n",
    "\n",
    "# Significance level\n",
    "alpha = 0.01\n",
    "\n",
    "# Conclusion\n",
    "if p_value < alpha:\n",
    "    print(\"Reject the null hypothesis - There is a significant association between chocolate preference and country of origin.\")\n",
    "else:\n",
    "    print(\"Fail to reject the null hypothesis - There is no significant association between chocolate preference and country of origin.\")\n"
   ]
  }
 ],
 "metadata": {
  "kernelspec": {
   "display_name": "Python 3 (ipykernel)",
   "language": "python",
   "name": "python3"
  },
  "language_info": {
   "codemirror_mode": {
    "name": "ipython",
    "version": 3
   },
   "file_extension": ".py",
   "mimetype": "text/x-python",
   "name": "python",
   "nbconvert_exporter": "python",
   "pygments_lexer": "ipython3",
   "version": "3.10.9"
  }
 },
 "nbformat": 4,
 "nbformat_minor": 5
}
