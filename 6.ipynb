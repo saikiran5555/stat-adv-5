{
 "cells": [
  {
   "cell_type": "code",
   "execution_count": null,
   "id": "ee34d9c8",
   "metadata": {},
   "outputs": [],
   "source": [
    "import numpy as np\n",
    "import matplotlib.pyplot as plt\n",
    "from scipy.stats import chi2\n",
    "\n",
    "# Degrees of freedom\n",
    "df = 10\n",
    "\n",
    "# Set up a range of chi-square values\n",
    "x = np.linspace(0, 30, 1000)\n",
    "\n",
    "# Chi-square PDF\n",
    "y = chi2.pdf(x, df)\n",
    "\n",
    "# Create the plot\n",
    "plt.figure(figsize=(8, 4))\n",
    "plt.plot(x, y, label='Chi-square distribution')\n",
    "\n",
    "# Shade the area for chi-square statistic of 15\n",
    "x_shade = np.linspace(15, 30, 1000)\n",
    "y_shade = chi2.pdf(x_shade, df)\n",
    "plt.fill_between(x_shade, y_shade, alpha=0.5, label='Area under curve > 15')\n",
    "\n",
    "# Label the axes\n",
    "plt.xlabel('Chi-square value')\n",
    "plt.ylabel('Probability density')\n",
    "\n",
    "# Title and legend\n",
    "plt.title(f'Chi-square Distribution with {df} Degrees of Freedom')\n",
    "plt.legend()\n",
    "\n",
    "# Show the plot\n",
    "plt.show()\n"
   ]
  },
  {
   "cell_type": "markdown",
   "id": "bd599be8",
   "metadata": {},
   "source": [
    "This code will generate a plot of the chi-square distribution with 10 degrees of freedom. It will also shade the area under the curve for values greater than 15, which corresponds to a chi-square statistic of 15. The chi2.pdf function from SciPy is used to get the probability density values for the chi-square distribution."
   ]
  }
 ],
 "metadata": {
  "kernelspec": {
   "display_name": "Python 3 (ipykernel)",
   "language": "python",
   "name": "python3"
  },
  "language_info": {
   "codemirror_mode": {
    "name": "ipython",
    "version": 3
   },
   "file_extension": ".py",
   "mimetype": "text/x-python",
   "name": "python",
   "nbconvert_exporter": "python",
   "pygments_lexer": "ipython3",
   "version": "3.10.9"
  }
 },
 "nbformat": 4,
 "nbformat_minor": 5
}
